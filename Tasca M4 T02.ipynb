{
 "cells": [
  {
   "cell_type": "markdown",
   "id": "26b5036f",
   "metadata": {},
   "source": [
    "### Exercici 1\n",
    "#### Realitza la pràctica del notebook a GitHub \"03 EXAMINING DATA\" (fes una còpia i executa els comandaments amb el mateix dataset county.txt). Aquest exercici consisteix a observar les diferents possibilitats que ofereixen les diferents llibreries de visualització gràfica.\n",
    "\n"
   ]
  },
  {
   "cell_type": "markdown",
   "id": "5c9a021f",
   "metadata": {},
   "source": [
    "03 EXAMINING DATA"
   ]
  },
  {
   "cell_type": "markdown",
   "id": "22598c32",
   "metadata": {},
   "source": [
    "### Exercici 2\n",
    "#### Fes les tasques de preprocessat  i adequació del Dataset que disposem en el repositori de GitHub PRE-PROCESSING-DATA amb l'objectiu de preparar-lo i treballar-lo com a dataframe per a extreure'n informació."
   ]
  },
  {
   "cell_type": "code",
   "execution_count": 287,
   "id": "f2d95132",
   "metadata": {},
   "outputs": [],
   "source": [
    "import numpy as np\n",
    "import pandas as pd"
   ]
  },
  {
   "cell_type": "code",
   "execution_count": 288,
   "id": "75b42de7",
   "metadata": {},
   "outputs": [
    {
     "data": {
      "text/html": [
       "<div>\n",
       "<style scoped>\n",
       "    .dataframe tbody tr th:only-of-type {\n",
       "        vertical-align: middle;\n",
       "    }\n",
       "\n",
       "    .dataframe tbody tr th {\n",
       "        vertical-align: top;\n",
       "    }\n",
       "\n",
       "    .dataframe thead th {\n",
       "        text-align: right;\n",
       "    }\n",
       "</style>\n",
       "<table border=\"1\" class=\"dataframe\">\n",
       "  <thead>\n",
       "    <tr style=\"text-align: right;\">\n",
       "      <th></th>\n",
       "      <th>Titol</th>\n",
       "      <th>genere</th>\n",
       "    </tr>\n",
       "  </thead>\n",
       "  <tbody>\n",
       "    <tr>\n",
       "      <th>0</th>\n",
       "      <td>Toy Story (1995)</td>\n",
       "      <td>Animation|Children's|Comedy</td>\n",
       "    </tr>\n",
       "    <tr>\n",
       "      <th>1</th>\n",
       "      <td>Jumanji (1995)</td>\n",
       "      <td>Adventure|Children's|Fantasy</td>\n",
       "    </tr>\n",
       "    <tr>\n",
       "      <th>2</th>\n",
       "      <td>Grumpier Old Men (1995)</td>\n",
       "      <td>Comedy|Romance</td>\n",
       "    </tr>\n",
       "    <tr>\n",
       "      <th>3</th>\n",
       "      <td>Waiting to Exhale (1995)</td>\n",
       "      <td>Comedy|Drama</td>\n",
       "    </tr>\n",
       "    <tr>\n",
       "      <th>4</th>\n",
       "      <td>Father of the Bride Part II (1995)</td>\n",
       "      <td>Comedy</td>\n",
       "    </tr>\n",
       "  </tbody>\n",
       "</table>\n",
       "</div>"
      ],
      "text/plain": [
       "                                Titol                        genere\n",
       "0                    Toy Story (1995)   Animation|Children's|Comedy\n",
       "1                      Jumanji (1995)  Adventure|Children's|Fantasy\n",
       "2             Grumpier Old Men (1995)                Comedy|Romance\n",
       "3            Waiting to Exhale (1995)                  Comedy|Drama\n",
       "4  Father of the Bride Part II (1995)                        Comedy"
      ]
     },
     "execution_count": 288,
     "metadata": {},
     "output_type": "execute_result"
    }
   ],
   "source": [
    "cine= pd.read_csv (\"/Users/esthersanroma/Desktop/DATA SCIENCES/PRE-PROCESSING-DATA-main 2/movies.dat\",sep = '::',\n",
    "                     usecols=[1, 2],\n",
    "                     names = [\"Titol\", \"genere\"],\n",
    "                     encoding=\"iso-8859-1\",\n",
    "                     engine=\"python\")\n",
    "cine.head()"
   ]
  },
  {
   "cell_type": "markdown",
   "id": "27d3ad66",
   "metadata": {},
   "source": [
    "Dividim la columna Genere, en Genere 1 i Genere 2"
   ]
  },
  {
   "cell_type": "code",
   "execution_count": 289,
   "id": "4b2bef9e",
   "metadata": {},
   "outputs": [],
   "source": [
    "cine[[\"genere1\",\"genere2\"]]=cine[\"genere\"].str.split(\"|\",n=1,expand=True)"
   ]
  },
  {
   "cell_type": "markdown",
   "id": "618a458e",
   "metadata": {},
   "source": [
    "Necesitem sols Genere 1, esborrem la Genere i Genere 2"
   ]
  },
  {
   "cell_type": "code",
   "execution_count": 290,
   "id": "b7066d63",
   "metadata": {},
   "outputs": [],
   "source": [
    "cine.drop(columns=[\"genere\", \"genere2\"], inplace=True)"
   ]
  },
  {
   "cell_type": "code",
   "execution_count": 291,
   "id": "8cf51bb6",
   "metadata": {},
   "outputs": [
    {
     "data": {
      "text/html": [
       "<div>\n",
       "<style scoped>\n",
       "    .dataframe tbody tr th:only-of-type {\n",
       "        vertical-align: middle;\n",
       "    }\n",
       "\n",
       "    .dataframe tbody tr th {\n",
       "        vertical-align: top;\n",
       "    }\n",
       "\n",
       "    .dataframe thead th {\n",
       "        text-align: right;\n",
       "    }\n",
       "</style>\n",
       "<table border=\"1\" class=\"dataframe\">\n",
       "  <thead>\n",
       "    <tr style=\"text-align: right;\">\n",
       "      <th></th>\n",
       "      <th>Titol</th>\n",
       "      <th>genere1</th>\n",
       "    </tr>\n",
       "  </thead>\n",
       "  <tbody>\n",
       "    <tr>\n",
       "      <th>0</th>\n",
       "      <td>Toy Story (1995)</td>\n",
       "      <td>Animation</td>\n",
       "    </tr>\n",
       "    <tr>\n",
       "      <th>1</th>\n",
       "      <td>Jumanji (1995)</td>\n",
       "      <td>Adventure</td>\n",
       "    </tr>\n",
       "    <tr>\n",
       "      <th>2</th>\n",
       "      <td>Grumpier Old Men (1995)</td>\n",
       "      <td>Comedy</td>\n",
       "    </tr>\n",
       "    <tr>\n",
       "      <th>3</th>\n",
       "      <td>Waiting to Exhale (1995)</td>\n",
       "      <td>Comedy</td>\n",
       "    </tr>\n",
       "    <tr>\n",
       "      <th>4</th>\n",
       "      <td>Father of the Bride Part II (1995)</td>\n",
       "      <td>Comedy</td>\n",
       "    </tr>\n",
       "  </tbody>\n",
       "</table>\n",
       "</div>"
      ],
      "text/plain": [
       "                                Titol    genere1\n",
       "0                    Toy Story (1995)  Animation\n",
       "1                      Jumanji (1995)  Adventure\n",
       "2             Grumpier Old Men (1995)     Comedy\n",
       "3            Waiting to Exhale (1995)     Comedy\n",
       "4  Father of the Bride Part II (1995)     Comedy"
      ]
     },
     "execution_count": 291,
     "metadata": {},
     "output_type": "execute_result"
    }
   ],
   "source": [
    "cine.head()"
   ]
  },
  {
   "cell_type": "markdown",
   "id": "6407d83d",
   "metadata": {},
   "source": [
    "Separem de titol, l'any "
   ]
  },
  {
   "cell_type": "code",
   "execution_count": 292,
   "id": "3e30a7a2",
   "metadata": {},
   "outputs": [
    {
     "data": {
      "text/html": [
       "<div>\n",
       "<style scoped>\n",
       "    .dataframe tbody tr th:only-of-type {\n",
       "        vertical-align: middle;\n",
       "    }\n",
       "\n",
       "    .dataframe tbody tr th {\n",
       "        vertical-align: top;\n",
       "    }\n",
       "\n",
       "    .dataframe thead th {\n",
       "        text-align: right;\n",
       "    }\n",
       "</style>\n",
       "<table border=\"1\" class=\"dataframe\">\n",
       "  <thead>\n",
       "    <tr style=\"text-align: right;\">\n",
       "      <th></th>\n",
       "      <th>Titol</th>\n",
       "      <th>genere1</th>\n",
       "      <th>Any</th>\n",
       "    </tr>\n",
       "  </thead>\n",
       "  <tbody>\n",
       "    <tr>\n",
       "      <th>0</th>\n",
       "      <td>Toy Story (1995)</td>\n",
       "      <td>Animation</td>\n",
       "      <td>1995</td>\n",
       "    </tr>\n",
       "    <tr>\n",
       "      <th>1</th>\n",
       "      <td>Jumanji (1995)</td>\n",
       "      <td>Adventure</td>\n",
       "      <td>1995</td>\n",
       "    </tr>\n",
       "    <tr>\n",
       "      <th>2</th>\n",
       "      <td>Grumpier Old Men (1995)</td>\n",
       "      <td>Comedy</td>\n",
       "      <td>1995</td>\n",
       "    </tr>\n",
       "    <tr>\n",
       "      <th>3</th>\n",
       "      <td>Waiting to Exhale (1995)</td>\n",
       "      <td>Comedy</td>\n",
       "      <td>1995</td>\n",
       "    </tr>\n",
       "    <tr>\n",
       "      <th>4</th>\n",
       "      <td>Father of the Bride Part II (1995)</td>\n",
       "      <td>Comedy</td>\n",
       "      <td>1995</td>\n",
       "    </tr>\n",
       "  </tbody>\n",
       "</table>\n",
       "</div>"
      ],
      "text/plain": [
       "                                Titol    genere1   Any\n",
       "0                    Toy Story (1995)  Animation  1995\n",
       "1                      Jumanji (1995)  Adventure  1995\n",
       "2             Grumpier Old Men (1995)     Comedy  1995\n",
       "3            Waiting to Exhale (1995)     Comedy  1995\n",
       "4  Father of the Bride Part II (1995)     Comedy  1995"
      ]
     },
     "execution_count": 292,
     "metadata": {},
     "output_type": "execute_result"
    }
   ],
   "source": [
    "cine['Any']=cine.Titol.str.slice(-5,-1)\n",
    "cine.head()"
   ]
  },
  {
   "cell_type": "markdown",
   "id": "8b48a2b1",
   "metadata": {},
   "source": [
    "Separem de la columna titol, sols titol"
   ]
  },
  {
   "cell_type": "code",
   "execution_count": 293,
   "id": "344efa14",
   "metadata": {},
   "outputs": [
    {
     "data": {
      "text/html": [
       "<div>\n",
       "<style scoped>\n",
       "    .dataframe tbody tr th:only-of-type {\n",
       "        vertical-align: middle;\n",
       "    }\n",
       "\n",
       "    .dataframe tbody tr th {\n",
       "        vertical-align: top;\n",
       "    }\n",
       "\n",
       "    .dataframe thead th {\n",
       "        text-align: right;\n",
       "    }\n",
       "</style>\n",
       "<table border=\"1\" class=\"dataframe\">\n",
       "  <thead>\n",
       "    <tr style=\"text-align: right;\">\n",
       "      <th></th>\n",
       "      <th>Titol</th>\n",
       "      <th>genere1</th>\n",
       "      <th>Any</th>\n",
       "    </tr>\n",
       "  </thead>\n",
       "  <tbody>\n",
       "    <tr>\n",
       "      <th>0</th>\n",
       "      <td>Toy Story</td>\n",
       "      <td>Animation</td>\n",
       "      <td>1995</td>\n",
       "    </tr>\n",
       "    <tr>\n",
       "      <th>1</th>\n",
       "      <td>Jumanji</td>\n",
       "      <td>Adventure</td>\n",
       "      <td>1995</td>\n",
       "    </tr>\n",
       "    <tr>\n",
       "      <th>2</th>\n",
       "      <td>Grumpier Old Men</td>\n",
       "      <td>Comedy</td>\n",
       "      <td>1995</td>\n",
       "    </tr>\n",
       "    <tr>\n",
       "      <th>3</th>\n",
       "      <td>Waiting to Exhale</td>\n",
       "      <td>Comedy</td>\n",
       "      <td>1995</td>\n",
       "    </tr>\n",
       "    <tr>\n",
       "      <th>4</th>\n",
       "      <td>Father of the Bride Part II</td>\n",
       "      <td>Comedy</td>\n",
       "      <td>1995</td>\n",
       "    </tr>\n",
       "  </tbody>\n",
       "</table>\n",
       "</div>"
      ],
      "text/plain": [
       "                          Titol    genere1   Any\n",
       "0                    Toy Story   Animation  1995\n",
       "1                      Jumanji   Adventure  1995\n",
       "2             Grumpier Old Men      Comedy  1995\n",
       "3            Waiting to Exhale      Comedy  1995\n",
       "4  Father of the Bride Part II      Comedy  1995"
      ]
     },
     "execution_count": 293,
     "metadata": {},
     "output_type": "execute_result"
    }
   ],
   "source": [
    "cine['Titol'] = cine.Titol.str.slice(0,-6)\n",
    "cine.head()"
   ]
  },
  {
   "cell_type": "markdown",
   "id": "74cbc757",
   "metadata": {},
   "source": [
    "Passem columna Any a int64"
   ]
  },
  {
   "cell_type": "code",
   "execution_count": 294,
   "id": "6fbb2219",
   "metadata": {},
   "outputs": [],
   "source": [
    "cine.Any= cine.Any.astype('int64')"
   ]
  },
  {
   "cell_type": "code",
   "execution_count": 295,
   "id": "acdb7d64",
   "metadata": {},
   "outputs": [
    {
     "name": "stdout",
     "output_type": "stream",
     "text": [
      "Index(['Titol', 'genere1', 'Any'], dtype='object')\n"
     ]
    }
   ],
   "source": [
    "print(cine.columns)"
   ]
  },
  {
   "cell_type": "code",
   "execution_count": 296,
   "id": "583331e1",
   "metadata": {},
   "outputs": [
    {
     "name": "stdout",
     "output_type": "stream",
     "text": [
      "<class 'pandas.core.frame.DataFrame'>\n",
      "RangeIndex: 3883 entries, 0 to 3882\n",
      "Data columns (total 3 columns):\n",
      " #   Column   Non-Null Count  Dtype \n",
      "---  ------   --------------  ----- \n",
      " 0   Titol    3883 non-null   object\n",
      " 1   genere1  3883 non-null   object\n",
      " 2   Any      3883 non-null   int64 \n",
      "dtypes: int64(1), object(2)\n",
      "memory usage: 91.1+ KB\n"
     ]
    }
   ],
   "source": [
    "cine.info()"
   ]
  },
  {
   "cell_type": "code",
   "execution_count": 297,
   "id": "e0dd1f9c",
   "metadata": {},
   "outputs": [
    {
     "data": {
      "text/plain": [
       "Titol      0\n",
       "genere1    0\n",
       "Any        0\n",
       "dtype: int64"
      ]
     },
     "execution_count": 297,
     "metadata": {},
     "output_type": "execute_result"
    }
   ],
   "source": [
    "cine.isnull().sum()"
   ]
  },
  {
   "cell_type": "code",
   "execution_count": 298,
   "id": "631f0d49",
   "metadata": {},
   "outputs": [
    {
     "data": {
      "text/html": [
       "<div>\n",
       "<style scoped>\n",
       "    .dataframe tbody tr th:only-of-type {\n",
       "        vertical-align: middle;\n",
       "    }\n",
       "\n",
       "    .dataframe tbody tr th {\n",
       "        vertical-align: top;\n",
       "    }\n",
       "\n",
       "    .dataframe thead th {\n",
       "        text-align: right;\n",
       "    }\n",
       "</style>\n",
       "<table border=\"1\" class=\"dataframe\">\n",
       "  <thead>\n",
       "    <tr style=\"text-align: right;\">\n",
       "      <th></th>\n",
       "      <th>Any</th>\n",
       "    </tr>\n",
       "  </thead>\n",
       "  <tbody>\n",
       "    <tr>\n",
       "      <th>count</th>\n",
       "      <td>3883.000000</td>\n",
       "    </tr>\n",
       "    <tr>\n",
       "      <th>mean</th>\n",
       "      <td>1986.066959</td>\n",
       "    </tr>\n",
       "    <tr>\n",
       "      <th>std</th>\n",
       "      <td>16.895690</td>\n",
       "    </tr>\n",
       "    <tr>\n",
       "      <th>min</th>\n",
       "      <td>1919.000000</td>\n",
       "    </tr>\n",
       "    <tr>\n",
       "      <th>25%</th>\n",
       "      <td>1982.000000</td>\n",
       "    </tr>\n",
       "    <tr>\n",
       "      <th>50%</th>\n",
       "      <td>1994.000000</td>\n",
       "    </tr>\n",
       "    <tr>\n",
       "      <th>75%</th>\n",
       "      <td>1997.000000</td>\n",
       "    </tr>\n",
       "    <tr>\n",
       "      <th>max</th>\n",
       "      <td>2000.000000</td>\n",
       "    </tr>\n",
       "  </tbody>\n",
       "</table>\n",
       "</div>"
      ],
      "text/plain": [
       "               Any\n",
       "count  3883.000000\n",
       "mean   1986.066959\n",
       "std      16.895690\n",
       "min    1919.000000\n",
       "25%    1982.000000\n",
       "50%    1994.000000\n",
       "75%    1997.000000\n",
       "max    2000.000000"
      ]
     },
     "execution_count": 298,
     "metadata": {},
     "output_type": "execute_result"
    }
   ],
   "source": [
    "cine.describe()"
   ]
  },
  {
   "cell_type": "markdown",
   "id": "409890d4",
   "metadata": {},
   "source": [
    "### Exercici 3\n",
    "#### Mostra la teva creativitat. Què creus rellevant mostrar del Dataset \"movies.dat\" de l'exercici anterior?\n",
    "\n",
    "Fes una o dues representacions gràfiques i justifica la teva elecció."
   ]
  },
  {
   "cell_type": "code",
   "execution_count": 299,
   "id": "4a220855",
   "metadata": {},
   "outputs": [],
   "source": [
    "import matplotlib.pyplot as plt\n",
    "import matplotlib as mpl\n",
    "import seaborn as sns"
   ]
  },
  {
   "cell_type": "code",
   "execution_count": 300,
   "id": "b583105e",
   "metadata": {},
   "outputs": [
    {
     "data": {
      "text/plain": [
       "Drama          1176\n",
       "Comedy         1024\n",
       "Action          503\n",
       "Horror          262\n",
       "Adventure       155\n",
       "Crime           131\n",
       "Documentary     123\n",
       "Thriller        101\n",
       "Animation        90\n",
       "Children's       89\n",
       "Romance          50\n",
       "Sci-Fi           46\n",
       "Mystery          36\n",
       "Western          33\n",
       "Film-Noir        25\n",
       "Musical          25\n",
       "War              12\n",
       "Fantasy           2\n",
       "Name: genere1, dtype: int64"
      ]
     },
     "execution_count": 300,
     "metadata": {},
     "output_type": "execute_result"
    }
   ],
   "source": [
    "cine.genere1.value_counts()"
   ]
  },
  {
   "cell_type": "code",
   "execution_count": 318,
   "id": "8632a624",
   "metadata": {},
   "outputs": [
    {
     "data": {
      "text/plain": [
       "Text(0.5, 0, 'Quantitat')"
      ]
     },
     "execution_count": 318,
     "metadata": {},
     "output_type": "execute_result"
    },
    {
     "data": {
      "image/png": "[encoded data removed]",
      "text/plain": [
       "<Figure size 432x288 with 1 Axes>"
      ]
     },
     "metadata": {},
     "output_type": "display_data"
    }
   ],
   "source": [
    "generes=cine.genere1.value_counts()\n",
    "generes.plot.barh(color=\"yellow\",edgecolor=\"green\")\n",
    "plt.ylabel(\"genere1\")\n",
    "plt.title(\"Número de pel.lícules per gènere\")\n",
    "plt.xlabel(\"Quantitat\")"
   ]
  },
  {
   "cell_type": "code",
   "execution_count": 319,
   "id": "31e5cdc6",
   "metadata": {
    "scrolled": true
   },
   "outputs": [
    {
     "data": {
      "text/plain": [
       "Text(0.5, 0, '')"
      ]
     },
     "execution_count": 319,
     "metadata": {},
     "output_type": "execute_result"
    },
    {
     "data": {
      "image/png": "[encoded data removed]",
      "text/plain": [
       "<Figure size 432x288 with 1 Axes>"
      ]
     },
     "metadata": {},
     "output_type": "display_data"
    }
   ],
   "source": [
    "generes.plot.box()\n",
    "plt.ylabel(\"Quantitat\")\n",
    "plt.xlabel(\"\")"
   ]
  },
  {
   "cell_type": "code",
   "execution_count": 323,
   "id": "caea95ad",
   "metadata": {},
   "outputs": [
    {
     "data": {
      "image/png": "[encoded data removed]",
      "text/plain": [
       "<Figure size 2160x720 with 1 Axes>"
      ]
     },
     "metadata": {},
     "output_type": "display_data"
    }
   ],
   "source": [
    "plt.figure(figsize=(30, 10))\n",
    "sns.countplot(x='Any', data=cine);\n",
    "plt.xticks(rotation=45)\n",
    "plt.title(\"Anys amb més producció\");\n"
   ]
  },
  {
   "cell_type": "code",
   "execution_count": 317,
   "id": "991f3bd4",
   "metadata": {},
   "outputs": [
    {
     "data": {
      "image/png": "[encoded data removed]",
      "text/plain": [
       "<Figure size 432x288 with 1 Axes>"
      ]
     },
     "metadata": {},
     "output_type": "display_data"
    }
   ],
   "source": [
    "sns.set(style=\"whitegrid\")\n",
    "sns.countplot(x='Any', data=cine[cine.Any>1990]);\n",
    "plt.xticks(rotation=45)\n",
    "plt.title(\"Producció de pel.lícules a partir dels 90\");"
   ]
  }
 ],
 "metadata": {
  "kernelspec": {
   "display_name": "Python 3 (ipykernel)",
   "language": "python",
   "name": "python3"
  },
  "language_info": {
   "codemirror_mode": {
    "name": "ipython",
    "version": 3
   },
   "file_extension": ".py",
   "mimetype": "text/x-python",
   "name": "python",
   "nbconvert_exporter": "python",
   "pygments_lexer": "ipython3",
   "version": "3.9.12"
  }
 },
 "nbformat": 4,
 "nbformat_minor": 5
}
